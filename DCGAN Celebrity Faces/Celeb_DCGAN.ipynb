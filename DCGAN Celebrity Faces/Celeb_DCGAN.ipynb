{
 "cells": [
  {
   "cell_type": "code",
   "execution_count": 1,
   "metadata": {},
   "outputs": [],
   "source": [
    "import utils\n",
    "\n",
    "import tensorflow as tf"
   ]
  },
  {
   "cell_type": "code",
   "execution_count": 2,
   "metadata": {},
   "outputs": [],
   "source": [
    "from tensorflow.keras.models import load_model \n",
    "from tensorflow.compat.v1 import ConfigProto\n",
    "from tensorflow.compat.v1 import InteractiveSession\n",
    "\n",
    "config = ConfigProto()\n",
    "config.gpu_options.allow_growth = True\n",
    "session = InteractiveSession(config = config)"
   ]
  },
  {
   "cell_type": "code",
   "execution_count": 3,
   "metadata": {},
   "outputs": [
    {
     "name": "stdout",
     "output_type": "stream",
     "text": [
      "Default GPU Device: /device:GPU:0\n"
     ]
    }
   ],
   "source": [
    "# Check for a GPU\n",
    "if not tf.test.gpu_device_name():\n",
    "    warnings.warn('No GPU found. Please use a GPU to train your neural network.')\n",
    "else:\n",
    "    print('Default GPU Device: {}'.format(tf.test.gpu_device_name()))"
   ]
  },
  {
   "cell_type": "code",
   "execution_count": 4,
   "metadata": {},
   "outputs": [
    {
     "name": "stderr",
     "output_type": "stream",
     "text": [
      "Downloading celeba: 1.44GB [05:17, 4.55MB/s]                                \n"
     ]
    },
    {
     "name": "stdout",
     "output_type": "stream",
     "text": [
      "Extracting celeba...\n"
     ]
    }
   ],
   "source": [
    "data_dir = 'input'\n",
    "utils.download_extract('celeba', data_dir)"
   ]
  },
  {
   "cell_type": "code",
   "execution_count": null,
   "metadata": {},
   "outputs": [],
   "source": [
    "def discriminator(images, alpha = 0.2, dropout = 0.8):\n",
    "    \"\"\"\n",
    "    Create the discriminator network\n",
    "    :param images: Tensor of input image(s)\n",
    "    :param alpha: The leakage amount from the relus.\n",
    "    :param dropout: How much dropout we want for trainning the discriminator\n",
    "    :return: Tuple of (tensor output of the discriminator, tensor logits of the discriminator)\n",
    "    \"\"\"\n",
    "    \n",
    "    h1 = tf.keras.layers.conv2d(images, 64, 5, strides = 2, padding = 'same')\n",
    "    h1 = tf.maximum(alpha * h1, h1)\n",
    "\n",
    "    h2 = tf.keras.layers.conv2d(h1, 128, 5, strides=2, padding='same')\n",
    "    h2 = tf.keras.layers.batch_normalization(h2, training=True)\n",
    "    h2 = tf.maximum(alpha * h2, h2)\n",
    "\n",
    "    h3 = tf.keras.layers.conv2d(h2, 256, 5, strides=2, padding='same')\n",
    "    h3 = tf.keras.layers.batch_normalization(h3, training=True)\n",
    "    h3 = tf.maximum(alpha * h3, h3)\n",
    "\n",
    "    flat = tf.keras.layers.Reshape(h3, (-1, 4*4*256))\n",
    "    dropout_layer = tf.layers.dropout(inputs=flat, rate=dropout)\n",
    "    logits = tf.layers.dense(dropout_layer, 1)\n",
    "    out = tf.sigmoid(logits)\n",
    "        \n",
    "    return out, logits"
   ]
  }
 ],
 "metadata": {
  "kernelspec": {
   "display_name": "Python 3",
   "language": "python",
   "name": "python3"
  },
  "language_info": {
   "codemirror_mode": {
    "name": "ipython",
    "version": 3
   },
   "file_extension": ".py",
   "mimetype": "text/x-python",
   "name": "python",
   "nbconvert_exporter": "python",
   "pygments_lexer": "ipython3",
   "version": "3.7.6"
  }
 },
 "nbformat": 4,
 "nbformat_minor": 4
}
