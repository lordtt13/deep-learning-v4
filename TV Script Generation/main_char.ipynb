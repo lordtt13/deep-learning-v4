{
 "cells": [
  {
   "cell_type": "code",
   "execution_count": 1,
   "metadata": {},
   "outputs": [],
   "source": [
    "import os\n",
    "import utils\n",
    "\n",
    "import numpy as np\n",
    "import tensorflow as tf"
   ]
  },
  {
   "cell_type": "code",
   "execution_count": 2,
   "metadata": {},
   "outputs": [],
   "source": [
    "from tensorflow.keras.models import load_model \n",
    "from tensorflow.compat.v1 import ConfigProto\n",
    "from tensorflow.compat.v1 import InteractiveSession\n",
    "\n",
    "config = ConfigProto()\n",
    "config.gpu_options.allow_growth = True\n",
    "session = InteractiveSession(config = config)"
   ]
  },
  {
   "cell_type": "code",
   "execution_count": 3,
   "metadata": {},
   "outputs": [
    {
     "name": "stdout",
     "output_type": "stream",
     "text": [
      "Default GPU Device: /device:GPU:0\n"
     ]
    }
   ],
   "source": [
    "# Check for a GPU\n",
    "if not tf.test.gpu_device_name():\n",
    "    warnings.warn('No GPU found. Please use a GPU to train your neural network.')\n",
    "else:\n",
    "    print('Default GPU Device: {}'.format(tf.test.gpu_device_name()))"
   ]
  },
  {
   "cell_type": "code",
   "execution_count": 4,
   "metadata": {},
   "outputs": [],
   "source": [
    "data_dir = 'moes_tavern_lines.txt'\n",
    "text = utils.load_data(data_dir)\n",
    "\n",
    "# Ignore notice, since we don't use it for analysing the data\n",
    "text = text[81:]"
   ]
  },
  {
   "cell_type": "code",
   "execution_count": 5,
   "metadata": {},
   "outputs": [
    {
     "name": "stdout",
     "output_type": "stream",
     "text": [
      "Dataset Stats\n",
      "Roughly the number of unique words: 11492\n"
     ]
    }
   ],
   "source": [
    "view_sentence_range = (0, 10)\n",
    "\n",
    "print('Dataset Stats')\n",
    "print('Roughly the number of unique words: {}'.format(len({word: None for word in text.split()})))"
   ]
  },
  {
   "cell_type": "code",
   "execution_count": 6,
   "metadata": {},
   "outputs": [
    {
     "name": "stdout",
     "output_type": "stream",
     "text": [
      "Number of scenes: 262\n"
     ]
    }
   ],
   "source": [
    "scenes = text.split('\\n\\n')\n",
    "print('Number of scenes: {}'.format(len(scenes)))"
   ]
  },
  {
   "cell_type": "code",
   "execution_count": 7,
   "metadata": {},
   "outputs": [
    {
     "name": "stdout",
     "output_type": "stream",
     "text": [
      "Average number of sentences in each scene: 15.248091603053435\n"
     ]
    }
   ],
   "source": [
    "sentence_count_scene = [scene.count('\\n') for scene in scenes]\n",
    "print('Average number of sentences in each scene: {}'.format(np.average(sentence_count_scene)))"
   ]
  },
  {
   "cell_type": "code",
   "execution_count": 8,
   "metadata": {},
   "outputs": [
    {
     "name": "stdout",
     "output_type": "stream",
     "text": [
      "Number of lines: 4257\n"
     ]
    }
   ],
   "source": [
    "sentences = [sentence for scene in scenes for sentence in scene.split('\\n')]\n",
    "print('Number of lines: {}'.format(len(sentences)))"
   ]
  },
  {
   "cell_type": "code",
   "execution_count": 9,
   "metadata": {},
   "outputs": [
    {
     "name": "stdout",
     "output_type": "stream",
     "text": [
      "Average number of words in each line: 11.50434578341555\n"
     ]
    }
   ],
   "source": [
    "word_count_sentence = [len(sentence.split()) for sentence in sentences]\n",
    "print('Average number of words in each line: {}'.format(np.average(word_count_sentence)))"
   ]
  },
  {
   "cell_type": "code",
   "execution_count": 10,
   "metadata": {},
   "outputs": [
    {
     "name": "stdout",
     "output_type": "stream",
     "text": [
      "The sentences 0 to 10:\n",
      "Moe_Szyslak: (INTO PHONE) Moe's Tavern. Where the elite meet to drink.\n",
      "Bart_Simpson: Eh, yeah, hello, is Mike there? Last name, Rotch.\n",
      "Moe_Szyslak: (INTO PHONE) Hold on, I'll check. (TO BARFLIES) Mike Rotch. Mike Rotch. Hey, has anybody seen Mike Rotch, lately?\n",
      "Moe_Szyslak: (INTO PHONE) Listen you little puke. One of these days I'm gonna catch you, and I'm gonna carve my name on your back with an ice pick.\n",
      "Moe_Szyslak: What's the matter Homer? You're not your normal effervescent self.\n",
      "Homer_Simpson: I got my problems, Moe. Give me another one.\n",
      "Moe_Szyslak: Homer, hey, you should not drink to forget your problems.\n",
      "Barney_Gumble: Yeah, you should only drink to enhance your social skills.\n",
      "\n",
      "\n"
     ]
    }
   ],
   "source": [
    "print('The sentences {} to {}:'.format(*view_sentence_range))\n",
    "print('\\n'.join(text.split('\\n')[view_sentence_range[0]:view_sentence_range[1]]))"
   ]
  },
  {
   "cell_type": "code",
   "execution_count": 11,
   "metadata": {},
   "outputs": [
    {
     "name": "stdout",
     "output_type": "stream",
     "text": [
      "89 unique characters\n"
     ]
    }
   ],
   "source": [
    "# The unique characters in the file\n",
    "\n",
    "vocab = sorted(set(text))\n",
    "print ('{} unique characters'.format(len(vocab)))"
   ]
  },
  {
   "cell_type": "code",
   "execution_count": 12,
   "metadata": {},
   "outputs": [],
   "source": [
    "# Vectorize the text\n",
    "\n",
    "char2idx = {u:i for i, u in enumerate(vocab)}\n",
    "idx2char = np.array(vocab)\n",
    "\n",
    "text_as_int = np.array([char2idx[c] for c in text])"
   ]
  },
  {
   "cell_type": "code",
   "execution_count": 13,
   "metadata": {},
   "outputs": [
    {
     "name": "stdout",
     "output_type": "stream",
     "text": [
      "{\n",
      "  '\\n':   0,\n",
      "  ' ' :   1,\n",
      "  '!' :   2,\n",
      "  '\"' :   3,\n",
      "  '#' :   4,\n",
      "  '$' :   5,\n",
      "  '%' :   6,\n",
      "  '&' :   7,\n",
      "  \"'\" :   8,\n",
      "  '(' :   9,\n",
      "  ')' :  10,\n",
      "  ',' :  11,\n",
      "  '-' :  12,\n",
      "  '.' :  13,\n",
      "  '/' :  14,\n",
      "  '0' :  15,\n",
      "  '1' :  16,\n",
      "  '2' :  17,\n",
      "  '3' :  18,\n",
      "  '4' :  19,\n",
      "  ...\n",
      "}\n"
     ]
    }
   ],
   "source": [
    "print('{')\n",
    "for char,_ in zip(char2idx, range(20)):\n",
    "    print('  {:4s}: {:3d},'.format(repr(char), char2idx[char]))\n",
    "print('  ...\\n}')"
   ]
  },
  {
   "cell_type": "code",
   "execution_count": 14,
   "metadata": {},
   "outputs": [
    {
     "name": "stdout",
     "output_type": "stream",
     "text": [
      "'Moe_Szyslak: ' ---- characters mapped to int ---- > [40 69 59 54 46 80 79 73 66 55 65 25  1]\n"
     ]
    }
   ],
   "source": [
    "# Show how the first 13 characters from the text are mapped to integers\n",
    "print ('{} ---- characters mapped to int ---- > {}'.format(repr(text[:13]), text_as_int[:13]))"
   ]
  },
  {
   "cell_type": "code",
   "execution_count": 15,
   "metadata": {},
   "outputs": [],
   "source": [
    "# Build Training Data"
   ]
  },
  {
   "cell_type": "code",
   "execution_count": 16,
   "metadata": {},
   "outputs": [
    {
     "name": "stdout",
     "output_type": "stream",
     "text": [
      "M\n",
      "o\n",
      "e\n",
      "_\n",
      "S\n"
     ]
    }
   ],
   "source": [
    "# The maximum length sentence we want for a single input in characters\n",
    "seq_length = 100\n",
    "examples_per_epoch = len(text)//(seq_length+1)\n",
    "\n",
    "# Create training examples / targets\n",
    "char_dataset = tf.data.Dataset.from_tensor_slices(text_as_int)\n",
    "\n",
    "for i in char_dataset.take(5):\n",
    "  print(idx2char[i.numpy()])"
   ]
  },
  {
   "cell_type": "code",
   "execution_count": 17,
   "metadata": {},
   "outputs": [
    {
     "name": "stdout",
     "output_type": "stream",
     "text": [
      "\"Moe_Szyslak: (INTO PHONE) Moe's Tavern. Where the elite meet to drink.\\nBart_Simpson: Eh, yeah, hello,\"\n",
      "\" is Mike there? Last name, Rotch.\\nMoe_Szyslak: (INTO PHONE) Hold on, I'll check. (TO BARFLIES) Mike R\"\n",
      "'otch. Mike Rotch. Hey, has anybody seen Mike Rotch, lately?\\nMoe_Szyslak: (INTO PHONE) Listen you litt'\n",
      "\"le puke. One of these days I'm gonna catch you, and I'm gonna carve my name on your back with an ice \"\n",
      "\"pick.\\nMoe_Szyslak: What's the matter Homer? You're not your normal effervescent self.\\nHomer_Simpson: \"\n"
     ]
    }
   ],
   "source": [
    "sequences = char_dataset.batch(seq_length+1, drop_remainder = True)\n",
    "\n",
    "for item in sequences.take(5):\n",
    "  print(repr(''.join(idx2char[item.numpy()])))"
   ]
  },
  {
   "cell_type": "markdown",
   "metadata": {},
   "source": [
    "#### For each sequence, duplicate and shift it to form the input and target text by using the map method to apply a simple function to each batch:"
   ]
  },
  {
   "cell_type": "code",
   "execution_count": 18,
   "metadata": {},
   "outputs": [],
   "source": [
    "def split_input_target(chunk):\n",
    "    input_text = chunk[:-1]\n",
    "    target_text = chunk[1:]\n",
    "    return input_text, target_text\n",
    "\n",
    "dataset = sequences.map(split_input_target)"
   ]
  },
  {
   "cell_type": "code",
   "execution_count": 19,
   "metadata": {},
   "outputs": [
    {
     "name": "stdout",
     "output_type": "stream",
     "text": [
      "Input data:  \"Moe_Szyslak: (INTO PHONE) Moe's Tavern. Where the elite meet to drink.\\nBart_Simpson: Eh, yeah, hello\"\n",
      "Target data: \"oe_Szyslak: (INTO PHONE) Moe's Tavern. Where the elite meet to drink.\\nBart_Simpson: Eh, yeah, hello,\"\n"
     ]
    }
   ],
   "source": [
    "# Print the first examples input and target values:\n",
    "\n",
    "for input_example, target_example in  dataset.take(1):\n",
    "  print ('Input data: ', repr(''.join(idx2char[input_example.numpy()])))\n",
    "  print ('Target data:', repr(''.join(idx2char[target_example.numpy()])))"
   ]
  },
  {
   "cell_type": "code",
   "execution_count": 20,
   "metadata": {},
   "outputs": [
    {
     "name": "stdout",
     "output_type": "stream",
     "text": [
      "Step    0\n",
      "  input: 40 ('M')\n",
      "  expected output: 69 ('o')\n",
      "Step    1\n",
      "  input: 69 ('o')\n",
      "  expected output: 59 ('e')\n",
      "Step    2\n",
      "  input: 59 ('e')\n",
      "  expected output: 54 ('_')\n",
      "Step    3\n",
      "  input: 54 ('_')\n",
      "  expected output: 46 ('S')\n",
      "Step    4\n",
      "  input: 46 ('S')\n",
      "  expected output: 80 ('z')\n"
     ]
    }
   ],
   "source": [
    "# For one charachter predict next one, then concatenate context through time\n",
    "\n",
    "for i, (input_idx, target_idx) in enumerate(zip(input_example[:5], target_example[:5])):\n",
    "    print(\"Step {:4d}\".format(i))\n",
    "    print(\"  input: {} ({:s})\".format(input_idx, repr(idx2char[input_idx])))\n",
    "    print(\"  expected output: {} ({:s})\".format(target_idx, repr(idx2char[target_idx])))"
   ]
  },
  {
   "cell_type": "code",
   "execution_count": 21,
   "metadata": {},
   "outputs": [
    {
     "data": {
      "text/plain": [
       "<BatchDataset shapes: ((32, 100), (32, 100)), types: (tf.int64, tf.int64)>"
      ]
     },
     "execution_count": 21,
     "metadata": {},
     "output_type": "execute_result"
    }
   ],
   "source": [
    "# Batch size\n",
    "BATCH_SIZE = 32\n",
    "\n",
    "# Buffer size to shuffle the dataset\n",
    "# (TF data is designed to work with possibly infinite sequences,\n",
    "# so it doesn't attempt to shuffle the entire sequence in memory. Instead,\n",
    "# it maintains a buffer in which it shuffles elements).\n",
    "BUFFER_SIZE = 10000\n",
    "\n",
    "dataset = dataset.shuffle(BUFFER_SIZE).batch(BATCH_SIZE, drop_remainder = True)\n",
    "\n",
    "dataset"
   ]
  },
  {
   "cell_type": "code",
   "execution_count": 22,
   "metadata": {},
   "outputs": [],
   "source": [
    "# Params\n",
    "\n",
    "# Length of the vocabulary in chars\n",
    "vocab_size = len(vocab)\n",
    "\n",
    "# The embedding dimension\n",
    "embedding_dim = 256\n",
    "\n",
    "# Number of RNN units\n",
    "rnn_units = 1024"
   ]
  },
  {
   "cell_type": "code",
   "execution_count": 23,
   "metadata": {},
   "outputs": [],
   "source": [
    "def build_model(vocab_size, embedding_dim, rnn_units, batch_size):\n",
    "  model = tf.keras.Sequential([\n",
    "    tf.keras.layers.Embedding(vocab_size, embedding_dim,\n",
    "                              batch_input_shape = [batch_size, None]),\n",
    "    tf.keras.layers.GRU(rnn_units,\n",
    "                        return_sequences = True,\n",
    "                        stateful = True,\n",
    "                        recurrent_initializer = 'glorot_uniform'),\n",
    "    tf.keras.layers.Dense(vocab_size)\n",
    "  ])\n",
    "  return model"
   ]
  },
  {
   "cell_type": "code",
   "execution_count": 24,
   "metadata": {},
   "outputs": [
    {
     "name": "stdout",
     "output_type": "stream",
     "text": [
      "Model: \"sequential\"\n",
      "_________________________________________________________________\n",
      "Layer (type)                 Output Shape              Param #   \n",
      "=================================================================\n",
      "embedding (Embedding)        (32, None, 256)           22784     \n",
      "_________________________________________________________________\n",
      "gru (GRU)                    (32, None, 1024)          3938304   \n",
      "_________________________________________________________________\n",
      "dense (Dense)                (32, None, 89)            91225     \n",
      "=================================================================\n",
      "Total params: 4,052,313\n",
      "Trainable params: 4,052,313\n",
      "Non-trainable params: 0\n",
      "_________________________________________________________________\n"
     ]
    }
   ],
   "source": [
    "model = build_model(\n",
    "  vocab_size = len(vocab),\n",
    "  embedding_dim = embedding_dim,\n",
    "  rnn_units = rnn_units,\n",
    "  batch_size = BATCH_SIZE)\n",
    "\n",
    "model.summary()"
   ]
  },
  {
   "cell_type": "code",
   "execution_count": 25,
   "metadata": {},
   "outputs": [
    {
     "name": "stdout",
     "output_type": "stream",
     "text": [
      "(32, 100, 89) # (batch_size, sequence_length, vocab_size)\n"
     ]
    }
   ],
   "source": [
    "for input_example_batch, target_example_batch in dataset.take(1):\n",
    "  example_batch_predictions = model(input_example_batch)\n",
    "  print(example_batch_predictions.shape, \"# (batch_size, sequence_length, vocab_size)\")"
   ]
  },
  {
   "cell_type": "code",
   "execution_count": 26,
   "metadata": {},
   "outputs": [],
   "source": [
    "# Check for one example\n",
    "\n",
    "sampled_indices = tf.random.categorical(example_batch_predictions[0], num_samples = 1)\n",
    "sampled_indices = tf.squeeze(sampled_indices, axis = -1).numpy()"
   ]
  },
  {
   "cell_type": "code",
   "execution_count": 27,
   "metadata": {},
   "outputs": [
    {
     "data": {
      "text/plain": [
       "array([ 7, 83,  7, 69, 43,  8, 69,  8, 10, 73, 79, 29, 33, 74,  1, 57, 86,\n",
       "       81, 11, 28, 39, 54, 16, 62, 52, 77, 74, 39, 59, 17, 74, 14, 55, 30,\n",
       "       37, 65, 55, 45, 53, 48, 45, 37, 21, 58, 65, 60, 74, 38, 84, 23, 58,\n",
       "       88, 11, 87, 71, 27, 20,  0, 49, 27, 25, 57, 31, 73, 67, 20, 22, 41,\n",
       "       59,  0,  3, 57, 88, 27, 83, 12, 27, 18, 78, 44, 50, 39,  1, 40, 15,\n",
       "       38, 33, 75, 17, 73, 69, 81, 10, 61, 18, 39, 61,  5, 34, 63])"
      ]
     },
     "execution_count": 27,
     "metadata": {},
     "output_type": "execute_result"
    }
   ],
   "source": [
    "sampled_indices"
   ]
  },
  {
   "cell_type": "code",
   "execution_count": 28,
   "metadata": {},
   "outputs": [
    {
     "name": "stdout",
     "output_type": "stream",
     "text": [
      "Input: \n",
      " \"n, scram, so I can get ready!\\nMoe_Szyslak: I'm tellin' ya, I'm fine. I've never been happier. See?\\nM\"\n",
      "\n",
      "Next Char Predictions: \n",
      " '&ã&oP\\'o\\')syBFt céÀ,AL_1hYwtLe2t/aCJkaRZURJ6dkftKä8dü,óq?5\\nV?:cDsm57Ne\\n\"cü?ã-?3xQWL M0KFu2soÀ)g3Lg$Gi'\n"
     ]
    }
   ],
   "source": [
    "print(\"Input: \\n\", repr(\"\".join(idx2char[input_example_batch[0]])))\n",
    "print()\n",
    "print(\"Next Char Predictions: \\n\", repr(\"\".join(idx2char[sampled_indices ])))"
   ]
  },
  {
   "cell_type": "code",
   "execution_count": 29,
   "metadata": {},
   "outputs": [
    {
     "name": "stdout",
     "output_type": "stream",
     "text": [
      "Prediction shape:  (32, 100, 89)  # (batch_size, sequence_length, vocab_size)\n",
      "scalar_loss:       4.487979\n"
     ]
    }
   ],
   "source": [
    "# Train\n",
    "\n",
    "def loss(labels, logits):\n",
    "  return tf.keras.losses.sparse_categorical_crossentropy(labels, logits, from_logits = True)\n",
    "\n",
    "example_batch_loss  = loss(target_example_batch, example_batch_predictions)\n",
    "print(\"Prediction shape: \", example_batch_predictions.shape, \" # (batch_size, sequence_length, vocab_size)\")\n",
    "print(\"scalar_loss:      \", example_batch_loss.numpy().mean())"
   ]
  },
  {
   "cell_type": "code",
   "execution_count": 30,
   "metadata": {},
   "outputs": [],
   "source": [
    "model.compile(optimizer = tf.keras.optimizers.Adam(lr = 0.001), loss = loss)"
   ]
  },
  {
   "cell_type": "code",
   "execution_count": 31,
   "metadata": {},
   "outputs": [],
   "source": [
    "# Callbacks\n",
    "\n",
    "# Directory where the checkpoints will be saved\n",
    "checkpoint_dir = './training_checkpoints'\n",
    "# Name of the checkpoint files\n",
    "checkpoint_prefix = os.path.join(checkpoint_dir, \"ckpt_{epoch}\")\n",
    "\n",
    "checkpoint_callback = tf.keras.callbacks.ModelCheckpoint(\n",
    "    filepath = checkpoint_prefix,\n",
    "    save_weights_only = True)"
   ]
  },
  {
   "cell_type": "code",
   "execution_count": 32,
   "metadata": {},
   "outputs": [],
   "source": [
    "EPOCHS = 100"
   ]
  },
  {
   "cell_type": "code",
   "execution_count": 33,
   "metadata": {},
   "outputs": [
    {
     "name": "stdout",
     "output_type": "stream",
     "text": [
      "Train for 94 steps\n",
      "Epoch 1/100\n",
      "94/94 [==============================] - 5s 55ms/step - loss: 3.1769\n",
      "Epoch 2/100\n",
      "94/94 [==============================] - 4s 45ms/step - loss: 2.1458\n",
      "Epoch 3/100\n",
      "94/94 [==============================] - 4s 47ms/step - loss: 1.9146\n",
      "Epoch 4/100\n",
      "94/94 [==============================] - 4s 45ms/step - loss: 1.7638\n",
      "Epoch 5/100\n",
      "94/94 [==============================] - 4s 43ms/step - loss: 1.6453\n",
      "Epoch 6/100\n",
      "94/94 [==============================] - 4s 45ms/step - loss: 1.5477\n",
      "Epoch 7/100\n",
      "94/94 [==============================] - 4s 45ms/step - loss: 1.4621\n",
      "Epoch 8/100\n",
      "94/94 [==============================] - 4s 47ms/step - loss: 1.3911\n",
      "Epoch 9/100\n",
      "94/94 [==============================] - 4s 45ms/step - loss: 1.3242\n",
      "Epoch 10/100\n",
      "94/94 [==============================] - 4s 45ms/step - loss: 1.2618\n",
      "Epoch 11/100\n",
      "94/94 [==============================] - 4s 46ms/step - loss: 1.2019\n",
      "Epoch 12/100\n",
      "94/94 [==============================] - 4s 46ms/step - loss: 1.1420\n",
      "Epoch 13/100\n",
      "94/94 [==============================] - 4s 46ms/step - loss: 1.0820\n",
      "Epoch 14/100\n",
      "94/94 [==============================] - 5s 49ms/step - loss: 1.0194\n",
      "Epoch 15/100\n",
      "94/94 [==============================] - 5s 49ms/step - loss: 0.9564\n",
      "Epoch 16/100\n",
      "94/94 [==============================] - 4s 46ms/step - loss: 0.8935\n",
      "Epoch 17/100\n",
      "94/94 [==============================] - 4s 46ms/step - loss: 0.8300\n",
      "Epoch 18/100\n",
      "94/94 [==============================] - 4s 42ms/step - loss: 0.7667\n",
      "Epoch 19/100\n",
      "94/94 [==============================] - 4s 42ms/step - loss: 0.7092\n",
      "Epoch 20/100\n",
      "94/94 [==============================] - 4s 43ms/step - loss: 0.6512\n",
      "Epoch 21/100\n",
      "94/94 [==============================] - 4s 43ms/step - loss: 0.5983\n",
      "Epoch 22/100\n",
      "94/94 [==============================] - 4s 43ms/step - loss: 0.5516\n",
      "Epoch 23/100\n",
      "94/94 [==============================] - 4s 42ms/step - loss: 0.5116\n",
      "Epoch 24/100\n",
      "94/94 [==============================] - 4s 42ms/step - loss: 0.4746\n",
      "Epoch 25/100\n",
      "94/94 [==============================] - 4s 41ms/step - loss: 0.4474\n",
      "Epoch 26/100\n",
      "94/94 [==============================] - 4s 42ms/step - loss: 0.4190\n",
      "Epoch 27/100\n",
      "94/94 [==============================] - 4s 42ms/step - loss: 0.3999\n",
      "Epoch 28/100\n",
      "94/94 [==============================] - 4s 42ms/step - loss: 0.3815\n",
      "Epoch 29/100\n",
      "94/94 [==============================] - 4s 41ms/step - loss: 0.3676\n",
      "Epoch 30/100\n",
      "94/94 [==============================] - 4s 43ms/step - loss: 0.3556\n",
      "Epoch 31/100\n",
      "94/94 [==============================] - 4s 44ms/step - loss: 0.3432\n",
      "Epoch 32/100\n",
      "94/94 [==============================] - 4s 43ms/step - loss: 0.3350\n",
      "Epoch 33/100\n",
      "94/94 [==============================] - 4s 43ms/step - loss: 0.3305\n",
      "Epoch 34/100\n",
      "94/94 [==============================] - 4s 45ms/step - loss: 0.3246\n",
      "Epoch 35/100\n",
      "94/94 [==============================] - 4s 43ms/step - loss: 0.3186\n",
      "Epoch 36/100\n",
      "94/94 [==============================] - 4s 42ms/step - loss: 0.3150\n",
      "Epoch 37/100\n",
      "94/94 [==============================] - 4s 42ms/step - loss: 0.3114\n",
      "Epoch 38/100\n",
      "94/94 [==============================] - 4s 42ms/step - loss: 0.3070\n",
      "Epoch 39/100\n",
      "94/94 [==============================] - 4s 43ms/step - loss: 0.3055\n",
      "Epoch 40/100\n",
      "94/94 [==============================] - 4s 42ms/step - loss: 0.3010\n",
      "Epoch 41/100\n",
      "94/94 [==============================] - 4s 43ms/step - loss: 0.2983\n",
      "Epoch 42/100\n",
      "94/94 [==============================] - 4s 43ms/step - loss: 0.2970\n",
      "Epoch 43/100\n",
      "94/94 [==============================] - 4s 43ms/step - loss: 0.2953\n",
      "Epoch 44/100\n",
      "94/94 [==============================] - 4s 44ms/step - loss: 0.2941\n",
      "Epoch 45/100\n",
      "94/94 [==============================] - 4s 42ms/step - loss: 0.2899\n",
      "Epoch 46/100\n",
      "94/94 [==============================] - 4s 43ms/step - loss: 0.2891\n",
      "Epoch 47/100\n",
      "94/94 [==============================] - 4s 44ms/step - loss: 0.2900\n",
      "Epoch 48/100\n",
      "94/94 [==============================] - 4s 44ms/step - loss: 0.2908\n",
      "Epoch 49/100\n",
      "94/94 [==============================] - 4s 45ms/step - loss: 0.2890\n",
      "Epoch 50/100\n",
      "94/94 [==============================] - 4s 43ms/step - loss: 0.2921\n",
      "Epoch 51/100\n",
      "94/94 [==============================] - 4s 43ms/step - loss: 0.2902\n",
      "Epoch 52/100\n",
      "94/94 [==============================] - 4s 44ms/step - loss: 0.2891\n",
      "Epoch 53/100\n",
      "94/94 [==============================] - 4s 44ms/step - loss: 0.2869\n",
      "Epoch 54/100\n",
      "94/94 [==============================] - 4s 44ms/step - loss: 0.2884\n",
      "Epoch 55/100\n",
      "94/94 [==============================] - 4s 44ms/step - loss: 0.2900\n",
      "Epoch 56/100\n",
      "94/94 [==============================] - 4s 42ms/step - loss: 0.2918\n",
      "Epoch 57/100\n",
      "94/94 [==============================] - 4s 43ms/step - loss: 0.2893\n",
      "Epoch 58/100\n",
      "94/94 [==============================] - 4s 45ms/step - loss: 0.2894\n",
      "Epoch 59/100\n",
      "94/94 [==============================] - 4s 44ms/step - loss: 0.2891\n",
      "Epoch 60/100\n",
      "94/94 [==============================] - 4s 44ms/step - loss: 0.2859\n",
      "Epoch 61/100\n",
      "94/94 [==============================] - 4s 42ms/step - loss: 0.2889\n",
      "Epoch 62/100\n",
      "94/94 [==============================] - 4s 44ms/step - loss: 0.2891\n",
      "Epoch 63/100\n",
      "94/94 [==============================] - 4s 45ms/step - loss: 0.2908\n",
      "Epoch 64/100\n",
      "94/94 [==============================] - 4s 45ms/step - loss: 0.2890\n",
      "Epoch 65/100\n",
      "94/94 [==============================] - 4s 44ms/step - loss: 0.2895\n",
      "Epoch 66/100\n",
      "94/94 [==============================] - 4s 44ms/step - loss: 0.2898\n",
      "Epoch 67/100\n",
      "94/94 [==============================] - 4s 45ms/step - loss: 0.2936\n",
      "Epoch 68/100\n",
      "94/94 [==============================] - 4s 46ms/step - loss: 0.2968\n",
      "Epoch 69/100\n",
      "94/94 [==============================] - 4s 43ms/step - loss: 0.2988\n",
      "Epoch 70/100\n",
      "94/94 [==============================] - 4s 45ms/step - loss: 0.3033\n",
      "Epoch 71/100\n",
      "94/94 [==============================] - 4s 43ms/step - loss: 0.3056\n",
      "Epoch 72/100\n",
      "94/94 [==============================] - 4s 43ms/step - loss: 0.3049\n",
      "Epoch 73/100\n",
      "94/94 [==============================] - 4s 43ms/step - loss: 0.3102\n",
      "Epoch 74/100\n",
      "94/94 [==============================] - 4s 44ms/step - loss: 0.3118\n",
      "Epoch 75/100\n",
      "94/94 [==============================] - 4s 43ms/step - loss: 0.3175\n",
      "Epoch 76/100\n",
      "94/94 [==============================] - 4s 44ms/step - loss: 0.3203\n",
      "Epoch 77/100\n",
      "94/94 [==============================] - 4s 44ms/step - loss: 0.3300\n",
      "Epoch 78/100\n",
      "94/94 [==============================] - 4s 43ms/step - loss: 0.3360\n",
      "Epoch 79/100\n",
      "94/94 [==============================] - 4s 45ms/step - loss: 0.3357\n",
      "Epoch 80/100\n",
      "94/94 [==============================] - 4s 45ms/step - loss: 0.3388\n",
      "Epoch 81/100\n",
      "94/94 [==============================] - 4s 46ms/step - loss: 0.3430\n",
      "Epoch 82/100\n",
      "94/94 [==============================] - 4s 43ms/step - loss: 0.3542\n",
      "Epoch 83/100\n",
      "94/94 [==============================] - 4s 43ms/step - loss: 0.3629\n",
      "Epoch 84/100\n",
      "94/94 [==============================] - 4s 47ms/step - loss: 0.3753\n",
      "Epoch 85/100\n",
      "94/94 [==============================] - 4s 45ms/step - loss: 0.3891\n",
      "Epoch 86/100\n",
      "94/94 [==============================] - 4s 45ms/step - loss: 0.3969\n",
      "Epoch 87/100\n",
      "94/94 [==============================] - 4s 43ms/step - loss: 0.4104\n",
      "Epoch 88/100\n",
      "94/94 [==============================] - 4s 43ms/step - loss: 0.4187\n",
      "Epoch 89/100\n",
      "94/94 [==============================] - 4s 43ms/step - loss: 0.4298\n",
      "Epoch 90/100\n",
      "94/94 [==============================] - 4s 43ms/step - loss: 0.4528\n",
      "Epoch 91/100\n",
      "94/94 [==============================] - 4s 43ms/step - loss: 0.4809\n",
      "Epoch 92/100\n",
      "94/94 [==============================] - 4s 43ms/step - loss: 0.5270\n",
      "Epoch 93/100\n",
      "94/94 [==============================] - 4s 44ms/step - loss: 0.5754\n",
      "Epoch 94/100\n",
      "94/94 [==============================] - 4s 43ms/step - loss: 0.6191\n",
      "Epoch 95/100\n",
      "94/94 [==============================] - 4s 42ms/step - loss: 0.6477\n",
      "Epoch 96/100\n",
      "94/94 [==============================] - 4s 43ms/step - loss: 0.6606\n",
      "Epoch 97/100\n",
      "94/94 [==============================] - 4s 42ms/step - loss: 0.6672\n",
      "Epoch 98/100\n",
      "94/94 [==============================] - 4s 43ms/step - loss: 0.6918\n",
      "Epoch 99/100\n",
      "94/94 [==============================] - 4s 45ms/step - loss: 0.7215\n",
      "Epoch 100/100\n"
     ]
    },
    {
     "name": "stdout",
     "output_type": "stream",
     "text": [
      "94/94 [==============================] - 4s 45ms/step - loss: 0.7561\n"
     ]
    }
   ],
   "source": [
    "history = model.fit(dataset, epochs = EPOCHS, callbacks = [checkpoint_callback])"
   ]
  },
  {
   "cell_type": "markdown",
   "metadata": {},
   "source": [
    "#### To run the model with a different batch_size, we need to rebuild the model and restore the weights from the checkpoint."
   ]
  },
  {
   "cell_type": "code",
   "execution_count": 34,
   "metadata": {},
   "outputs": [
    {
     "data": {
      "text/plain": [
       "'./training_checkpoints/ckpt_100'"
      ]
     },
     "execution_count": 34,
     "metadata": {},
     "output_type": "execute_result"
    }
   ],
   "source": [
    "# Load Checkpoint\n",
    "\n",
    "tf.train.latest_checkpoint(checkpoint_dir)"
   ]
  },
  {
   "cell_type": "code",
   "execution_count": 35,
   "metadata": {},
   "outputs": [],
   "source": [
    "model = build_model(vocab_size, embedding_dim, rnn_units, batch_size = 1)\n",
    "\n",
    "model.load_weights(tf.train.latest_checkpoint(checkpoint_dir))\n",
    "\n",
    "model.build(tf.TensorShape([1, None]))"
   ]
  },
  {
   "cell_type": "code",
   "execution_count": 36,
   "metadata": {},
   "outputs": [
    {
     "name": "stdout",
     "output_type": "stream",
     "text": [
      "Model: \"sequential_1\"\n",
      "_________________________________________________________________\n",
      "Layer (type)                 Output Shape              Param #   \n",
      "=================================================================\n",
      "embedding_1 (Embedding)      (1, None, 256)            22784     \n",
      "_________________________________________________________________\n",
      "gru_1 (GRU)                  (1, None, 1024)           3938304   \n",
      "_________________________________________________________________\n",
      "dense_1 (Dense)              (1, None, 89)             91225     \n",
      "=================================================================\n",
      "Total params: 4,052,313\n",
      "Trainable params: 4,052,313\n",
      "Non-trainable params: 0\n",
      "_________________________________________________________________\n"
     ]
    }
   ],
   "source": [
    "model.summary()"
   ]
  },
  {
   "cell_type": "code",
   "execution_count": 37,
   "metadata": {},
   "outputs": [],
   "source": [
    "# Get Pred Func\n",
    "\n",
    "def generate_text(model, start_string):\n",
    "  # Number of characters to generate\n",
    "  num_generate = 1000\n",
    "\n",
    "  # Converting our start string to numbers (vectorizing)\n",
    "  input_eval = [char2idx[s] for s in start_string]\n",
    "  input_eval = tf.expand_dims(input_eval, 0)\n",
    "\n",
    "  # Empty string to store our results\n",
    "  text_generated = []\n",
    "\n",
    "  # Low temperatures results in more predictable text.\n",
    "  # Higher temperatures results in more surprising text.\n",
    "  # Experiment to find the best setting.\n",
    "  temperature = 1.0\n",
    "\n",
    "  # Here batch size == 1\n",
    "  model.reset_states()\n",
    "  for i in range(num_generate):\n",
    "      predictions = model(input_eval)\n",
    "      # remove the batch dimension\n",
    "      predictions = tf.squeeze(predictions, 0)\n",
    "\n",
    "      # using a categorical distribution to predict the character returned by the model\n",
    "      predictions = predictions / temperature\n",
    "      predicted_id = tf.random.categorical(predictions, num_samples = 1)[-1,0].numpy()\n",
    "\n",
    "      # We pass the predicted character as the next input to the model\n",
    "      # along with the previous hidden state\n",
    "      input_eval = tf.expand_dims([predicted_id], 0)\n",
    "\n",
    "      text_generated.append(idx2char[predicted_id])\n",
    "\n",
    "  return (start_string + ''.join(text_generated))"
   ]
  },
  {
   "cell_type": "code",
   "execution_count": 38,
   "metadata": {},
   "outputs": [
    {
     "name": "stdout",
     "output_type": "stream",
     "text": [
      "Moe_Szyslak: You moro again Lenny sixce the Simpson.\n",
      "Moe_Szyslak: What'sa!\n",
      "Skalleeth them, I'm cleater then we just head down 'els of somethin' food?\n",
      "Moe_Szyslak: Don't worry Plastical, better shurtimpson: know what I'm doing. XCRUTINING) The Beave Won't.\n",
      "Youncelice, restayits and the rest of the next thing for me.\n",
      "Bumble: No.\n",
      "Homer_Simpson: (DERISTO HARD) FALL SOBIRS, MAVES TATTHY / INSTER DAY/ TO PLAYE DE PETHY-NG.....\n",
      "Barney_Gumble: I'm doing it! Here's \"Walthers: own a beer of the Gumber You guys. You and gover sational cripson: (MEANSIGUA) Good nice problems.\n",
      "V.ING HOMER) I know how you see hobod? (LIPTONG TO BOOK)\n",
      "Moe_Szyslak: So, uh, what's sk...\n",
      "Homer_Simpson: (TOUSTEE EMBURDS) Oh boe, is turning, you were's actually everyone thing you're fat champiest guy. Moe, a million dol.\n",
      "Moe_Szyslak: Why don't you? 'Cause go to pether than men in or stool.\n",
      "Homer_Simpson: Oh! / EAKING A BIGRIANOFBIRD LY BUT TOD THE BALKING UP WITH LOOKS) Kmoke we saved my like!\n",
      "\n",
      "\n",
      "Moe_Szyslak: So, I can't--\n",
      "Homor_Simpso\n"
     ]
    }
   ],
   "source": [
    "print(generate_text(model, start_string = u\"Moe_Szyslak: \"))"
   ]
  },
  {
   "cell_type": "code",
   "execution_count": null,
   "metadata": {},
   "outputs": [],
   "source": []
  }
 ],
 "metadata": {
  "kernelspec": {
   "display_name": "Python 3",
   "language": "python",
   "name": "python3"
  },
  "language_info": {
   "codemirror_mode": {
    "name": "ipython",
    "version": 3
   },
   "file_extension": ".py",
   "mimetype": "text/x-python",
   "name": "python",
   "nbconvert_exporter": "python",
   "pygments_lexer": "ipython3",
   "version": "3.7.6"
  }
 },
 "nbformat": 4,
 "nbformat_minor": 4
}
